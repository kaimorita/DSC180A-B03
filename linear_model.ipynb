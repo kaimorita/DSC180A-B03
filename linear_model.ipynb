{
 "cells": [
  {
   "cell_type": "markdown",
   "id": "93b3948e-604d-4fe0-8bd5-23d758860b3a",
   "metadata": {},
   "source": [
    "# Linear Model for Climate Change Predictions\n",
    "\n",
    "We use linear regression to predict to predict temperature, diurnal temperature range, precipitation, and 90th percentile precipitation from mean global temperature."
   ]
  },
  {
   "cell_type": "code",
   "execution_count": 1,
   "id": "a5499c79-1812-412d-aa78-433928e8dbdc",
   "metadata": {
    "tags": []
   },
   "outputs": [],
   "source": [
    "import xarray as xr\n",
    "import numpy as np\n",
    "import pandas as pd\n",
    "from sklearn.linear_model import LinearRegression "
   ]
  },
  {
   "cell_type": "code",
   "execution_count": 2,
   "id": "b4ba08a5-43ed-4610-b291-9f4b7cb4ac0a",
   "metadata": {
    "tags": []
   },
   "outputs": [],
   "source": [
    "# convert from kg/m^2/s to mm/day\n",
    "KGM2S_TO_MMDAY = 86400"
   ]
  },
  {
   "cell_type": "code",
   "execution_count": 3,
   "id": "8f650384-809b-4727-9e43-ab055e264444",
   "metadata": {
    "tags": []
   },
   "outputs": [],
   "source": [
    "# flatten latitude and longitude to one dimension\n",
    "def flatten(data):\n",
    "    return data.stack(dim=['lat','lon'])"
   ]
  },
  {
   "cell_type": "markdown",
   "id": "b6ee8338-1d95-478d-8b14-0dd76509d41c",
   "metadata": {},
   "source": [
    "### Create Training Data\n",
    "First, we create the training for our model. We train our model using 4 scenarios: historical, ssp126, ssp370, and ssp585."
   ]
  },
  {
   "cell_type": "code",
   "execution_count": 4,
   "id": "993fb2ae-cd19-4fb1-b38c-f47d850d25b3",
   "metadata": {
    "tags": []
   },
   "outputs": [],
   "source": [
    "scenarios = ['historical', 'ssp126', 'ssp370', 'ssp585']"
   ]
  },
  {
   "cell_type": "code",
   "execution_count": 5,
   "id": "11f3d487-bab8-40a3-b354-f51d2ffb1e3e",
   "metadata": {
    "tags": []
   },
   "outputs": [
    {
     "name": "stderr",
     "output_type": "stream",
     "text": [
      "C:\\Users\\kaits\\anaconda3\\Lib\\site-packages\\xarray\\backends\\plugins.py:71: RuntimeWarning: Engine 'cfgrib' loading failed:\n",
      "Cannot find the ecCodes library\n",
      "  warnings.warn(f\"Engine {name!r} loading failed:\\n{ex}\", RuntimeWarning)\n"
     ]
    }
   ],
   "source": [
    "# using 2nd ensemble member for historical data since 1st member has missing data\n",
    "# TODO: try .mean(member)\n",
    "ytrain = xr.concat(\n",
    "    [xr.open_dataset(f'train_val/outputs_{s}.nc').sel(member=2 if s=='historical' else 1) for s in scenarios]\n",
    "    , dim='time')"
   ]
  },
  {
   "cell_type": "code",
   "execution_count": 6,
   "id": "789f6fbc-f1cf-42ce-b2be-d9aeddade6e5",
   "metadata": {
    "tags": []
   },
   "outputs": [],
   "source": [
    "# convert precipitation data to mm/day\n",
    "ytrain['pr'] *= KGM2S_TO_MMDAY\n",
    "ytrain['pr90'] *= KGM2S_TO_MMDAY"
   ]
  },
  {
   "cell_type": "code",
   "execution_count": 7,
   "id": "a99fb849-2e54-44dd-97a3-7986cd70c9c4",
   "metadata": {
    "tags": []
   },
   "outputs": [],
   "source": [
    "# mean temp averaged globally and over training simulations\n",
    "weights = np.cos(np.deg2rad(ytrain.lat))\n",
    "global_mean_temp = ytrain['tas'].weighted(weights).mean(['lat', 'lon']).to_numpy().reshape(-1,1)"
   ]
  },
  {
   "cell_type": "markdown",
   "id": "9f3c3afc-a1e1-4114-a4d0-cc775adc885f",
   "metadata": {},
   "source": [
    "### Fit Linear Regression Models\n",
    "Next, we fit 4 linear regression models for each of the output variables."
   ]
  },
  {
   "cell_type": "code",
   "execution_count": 8,
   "id": "8d49ade6-137b-4ac0-8536-d5edf2b8e9d8",
   "metadata": {
    "tags": []
   },
   "outputs": [],
   "source": [
    "output_vars = ['tas', 'diurnal_temperature_range', 'pr', 'pr90']"
   ]
  },
  {
   "cell_type": "code",
   "execution_count": 9,
   "id": "3556c5c3-d858-4dbd-a874-42982556aed2",
   "metadata": {},
   "outputs": [],
   "source": [
    "# create model for each variable\n",
    "models = {out: LinearRegression(fit_intercept=False) for out in output_vars}\n",
    "\n",
    "# fit models\n",
    "for out in output_vars:\n",
    "    models[out].fit(global_mean_temp, flatten(ytrain[out]))"
   ]
  },
  {
   "cell_type": "markdown",
   "id": "3b81a381-7fad-4ed2-a1a0-700669a72f0e",
   "metadata": {},
   "source": [
    "### Test Data\n",
    "We test our models on the test data, ssp245, and compute the RMSE."
   ]
  },
  {
   "cell_type": "code",
   "execution_count": 10,
   "id": "7500cdf8-7e34-47ad-9d19-983910f00bb5",
   "metadata": {},
   "outputs": [],
   "source": [
    "# load test data\n",
    "ytest = xr.open_dataset(f'test/outputs_ssp245.nc')"
   ]
  },
  {
   "cell_type": "code",
   "execution_count": 11,
   "id": "823c6c22-7f51-47e1-8ef6-33c37e875fe9",
   "metadata": {
    "tags": []
   },
   "outputs": [],
   "source": [
    "# process test data\n",
    "# average over ensemble members\n",
    "for out in output_vars:\n",
    "    ytest[out] = ytest[out].mean('member')\n",
    "\n",
    "# convert precipitation data to mm/day\n",
    "ytest['pr'] *= KGM2S_TO_MMDAY\n",
    "ytest['pr90'] *= KGM2S_TO_MMDAY"
   ]
  },
  {
   "cell_type": "code",
   "execution_count": 12,
   "id": "62b62525-8b5d-4f0d-9d53-06687aaba039",
   "metadata": {},
   "outputs": [],
   "source": [
    "# get mean temperature averaged globally\n",
    "test_input = (ytest['tas']\n",
    "              .weighted(weights)\n",
    "              .mean(['lat', 'lon'])\n",
    "              .to_pandas() # convert to pandas to use rolling average\n",
    "              .rolling(10, min_periods=1)\n",
    "              .mean()\n",
    "              .to_numpy() # convert back to numpy to reshape\n",
    "              .reshape(-1,1))"
   ]
  },
  {
   "cell_type": "code",
   "execution_count": 13,
   "id": "ef269eea-52fa-4919-b00d-1afb25a38088",
   "metadata": {
    "tags": []
   },
   "outputs": [],
   "source": [
    "# get predictions on test data\n",
    "outputs = {out: models[out].predict(test_input).reshape(86,96,144) for out in output_vars}"
   ]
  },
  {
   "cell_type": "markdown",
   "id": "69893caf-633d-40f5-9517-906ca8773dd5",
   "metadata": {},
   "source": [
    "### Evaluate Model\n",
    "We evaluate our model using the NRMSE defined in the ClimateBench paper."
   ]
  },
  {
   "cell_type": "code",
   "execution_count": 14,
   "id": "2212c07d-3fda-4293-83dc-5785981f5cfb",
   "metadata": {
    "tags": []
   },
   "outputs": [],
   "source": [
    "def get_nrmse_spatial(truth, pred):\n",
    "    weights = np.cos(np.deg2rad(truth.lat))\n",
    "    truth_total = truth.weighted(weights).mean(['lat', 'lon']).data.mean()\n",
    "    rmse_spatial = np.sqrt(((truth - pred).mean('time')**2).weighted(weights).mean(['lat','lon'])).data\n",
    "    return rmse_spatial / truth_total "
   ]
  },
  {
   "cell_type": "code",
   "execution_count": 15,
   "id": "75714c30-70e1-4853-9163-b41f7675d9b1",
   "metadata": {
    "tags": []
   },
   "outputs": [],
   "source": [
    "def get_nrmse_global(truth, pred):\n",
    "    weights = np.cos(np.deg2rad(truth.lat))\n",
    "    truth_total = truth.weighted(weights).mean(['lat', 'lon']).data.mean()\n",
    "    rmse_global = np.sqrt((((truth - pred).weighted(weights).mean(['lat', 'lon']))**2).data.mean())\n",
    "    return rmse_global / truth_total "
   ]
  },
  {
   "cell_type": "code",
   "execution_count": 16,
   "id": "7e778395-3796-4676-bd69-a08e907544cd",
   "metadata": {
    "tags": []
   },
   "outputs": [],
   "source": [
    "def get_nrmse(truth, pred):\n",
    "    return get_nrmse_spatial(truth, pred) + 5 * get_nrmse_global(truth, pred)"
   ]
  },
  {
   "cell_type": "code",
   "execution_count": 20,
   "id": "92d10f14-8690-4c9c-b069-50dfceeb6e21",
   "metadata": {},
   "outputs": [
    {
     "name": "stdout",
     "output_type": "stream",
     "text": [
      "The spatial NRMSE for tas is 0.09575594957065957.\n",
      "The global NRMSE for tas is 0.06763518119709791.\n",
      "The total NRMSE for tas is 0.4339318555561491.\n",
      "The spatial NRMSE for diurnal_temperature_range is -2.4126704092194595.\n",
      "The global NRMSE for diurnal_temperature_range is -0.7923388891072541.\n",
      "The total NRMSE for diurnal_temperature_range is -6.37436485475573.\n",
      "The spatial NRMSE for pr is 2.8891350860348934.\n",
      "The global NRMSE for pr is 0.4496052034022165.\n",
      "The total NRMSE for pr is 5.137161103045976.\n",
      "The spatial NRMSE for pr90 is 3.350480357192461.\n",
      "The global NRMSE for pr90 is 0.5457367867441775.\n",
      "The total NRMSE for pr90 is 6.079164290913349.\n"
     ]
    }
   ],
   "source": [
    "# prints nrmse's\n",
    "# idk why the diurnal temperature range is like that sos\n",
    "for out in output_vars:\n",
    "    nrmse_spatial = get_nrmse_spatial(ytest[out], outputs[out])\n",
    "    nrmse_global = get_nrmse_global(ytest[out], outputs[out])\n",
    "    nrmse = get_nrmse(ytest[out], outputs[out])\n",
    "    \n",
    "    print(f'The spatial NRMSE for {out} is {nrmse_spatial}.')\n",
    "    print(f'The global NRMSE for {out} is {nrmse_global}.')\n",
    "    print(f'The total NRMSE for {out} is {nrmse}.')"
   ]
  },
  {
   "cell_type": "code",
   "execution_count": null,
   "id": "a066a85f-70a9-4721-9dd0-10c0ba49f3d4",
   "metadata": {},
   "outputs": [],
   "source": [
    "# all that is left to do the graphs and figure out why diurnal temp range is being mean :("
   ]
  }
 ],
 "metadata": {
  "kernelspec": {
   "display_name": "Python 3 (ipykernel)",
   "language": "python",
   "name": "python3"
  },
  "language_info": {
   "codemirror_mode": {
    "name": "ipython",
    "version": 3
   },
   "file_extension": ".py",
   "mimetype": "text/x-python",
   "name": "python",
   "nbconvert_exporter": "python",
   "pygments_lexer": "ipython3",
   "version": "3.11.4"
  }
 },
 "nbformat": 4,
 "nbformat_minor": 5
}
